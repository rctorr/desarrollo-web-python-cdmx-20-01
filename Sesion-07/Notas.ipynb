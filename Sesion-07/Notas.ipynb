{
 "cells": [
  {
   "cell_type": "markdown",
   "metadata": {},
   "source": [
    "---\n",
    "---\n",
    "### Web scraping\n",
    "---\n",
    "#### EJEMPLO: El módulo [http.server](https://docs.python.org/3.7/library/http.server.html)\n",
    "\n",
    "Instalación de los módulos:\n",
    "\n",
    "```\n",
    "pip install beautifulsoup4\n",
    "pip install requests\n",
    "```"
   ]
  },
  {
   "cell_type": "code",
   "execution_count": 1,
   "metadata": {},
   "outputs": [],
   "source": [
    "from bs4 import BeautifulSoup"
   ]
  },
  {
   "cell_type": "markdown",
   "metadata": {},
   "source": [
    "---\n",
    "#### RETO: Los módulos BeautifulSoup y requests\n",
    "\n",
    "Modificar el script `unsplash-soup.py` para que descargue cada foto en la carpeta local `fotos/`.\n"
   ]
  },
  {
   "cell_type": "code",
   "execution_count": 8,
   "metadata": {},
   "outputs": [
    {
     "name": "stdout",
     "output_type": "stream",
     "text": [
      "Arroz\n",
      "22,610.0\n"
     ]
    }
   ],
   "source": [
    "fila = '<tr><td class=\"TdInicio\"><div style=\"padding-left:NaNpx;\">Arroz</div></td><td class=\"Td\">22,610.0</td></tr>'\n",
    "fila = fila.replace(\"<tr>\", \"\")\n",
    "fila = fila.replace(\"</tr>\", \"\")\n",
    "fila = fila.replace(\"<td>\", \"\")\n",
    "fila = fila.replace(\"</td>\", \",\")\n",
    "\n",
    "fila = '<tr><td class=\"TdInicio\"><div style=\"padding-left:NaNpx;\">Arroz</div></td><td class=\"Td\">22,610.0</td></tr>'\n",
    "soup = BeautifulSoup(fila)\n",
    "tds = soup.find_all(\"td\")\n",
    "for dato in tds:\n",
    "    print(dato.string)"
   ]
  }
 ],
 "metadata": {
  "kernelspec": {
   "display_name": "Python 3",
   "language": "python",
   "name": "python3"
  },
  "language_info": {
   "codemirror_mode": {
    "name": "ipython",
    "version": 3
   },
   "file_extension": ".py",
   "mimetype": "text/x-python",
   "name": "python",
   "nbconvert_exporter": "python",
   "pygments_lexer": "ipython3",
   "version": "3.7.4"
  }
 },
 "nbformat": 4,
 "nbformat_minor": 4
}
