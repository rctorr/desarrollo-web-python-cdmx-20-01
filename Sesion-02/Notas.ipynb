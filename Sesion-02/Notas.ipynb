{
 "cells": [
  {
   "cell_type": "markdown",
   "metadata": {},
   "source": [
    "# Programación con Python para desarrollo web"
   ]
  },
  {
   "cell_type": "markdown",
   "metadata": {},
   "source": [
    "---\n",
    "### Listas\n",
    "\n",
    "Ejemplo: Crear el script `enteros.py` que imprima una lista de N números enteros comnezando con 0. El valor de N debera ser proporcionado por el usuario.\n",
    "\n",
    "__ADVERTENCIA!__ Bajo tu propio riesgo ejecuta el mismo script para generar listas de 10, 100 o 1000 millones, la razón es que al ejecutar el script podría llegar a consumir toda la memoria RAM de tu computadora haciendo que todo el sistema operativo se congele.\n",
    "\n",
    "```\n",
    "$ python enteros.py \n",
    "Dame el valor de N = 10\n",
    "0\n",
    "1\n",
    "2\n",
    "3\n",
    "4\n",
    "5\n",
    "6\n",
    "7\n",
    "8\n",
    "9\n",
    "```"
   ]
  },
  {
   "cell_type": "markdown",
   "metadata": {},
   "source": [
    "Ejecuta el script atnerior para obtener listas de número de tamaño 100, 1 000, 10 000, 100 000, 1 000 000."
   ]
  },
  {
   "cell_type": "markdown",
   "metadata": {},
   "source": [
    "---\n",
    "### Operaciones con listas\n",
    "\n",
    "Ejemplo: Crear el script `claves.py` para generar n claves de forma aleatoria donde cada clave tiene longitud m. Cada clave debe tener al menos 1 mayúscula, una minúscula y un dígito. Los valores de n y m serán solicitados al usuario y si el valor de m no se proporciona por el usuario, se asignará un valor de 8.\n",
    "\n",
    "```\n",
    "$ python claves.py\n",
    "Número de claves a generar: 3\n",
    "Longitud de claves (8): \n",
    "wDxIg9BJ\n",
    "8U3lNI2E\n",
    "0QiZqQRY\n",
    "```"
   ]
  },
  {
   "cell_type": "markdown",
   "metadata": {},
   "source": [
    "Sugerencias:\n",
    "\n",
    "- Reutiliza el código delscript `lee_entero.py` de la Sesion-01.\n",
    "- Genera una lista con todas tus claves y lueg imprímela.\n",
    "- Resuelve el problema para una sóla clave primero.\n",
    "- Usar el módulo random"
   ]
  },
  {
   "cell_type": "code",
   "execution_count": 1,
   "metadata": {},
   "outputs": [],
   "source": [
    "l = \"abcde\""
   ]
  },
  {
   "cell_type": "code",
   "execution_count": 4,
   "metadata": {},
   "outputs": [
    {
     "data": {
      "text/plain": [
       "'d'"
      ]
     },
     "execution_count": 4,
     "metadata": {},
     "output_type": "execute_result"
    }
   ],
   "source": [
    "l[3]"
   ]
  },
  {
   "cell_type": "code",
   "execution_count": 5,
   "metadata": {},
   "outputs": [],
   "source": [
    "import random"
   ]
  },
  {
   "cell_type": "code",
   "execution_count": 27,
   "metadata": {},
   "outputs": [
    {
     "data": {
      "text/plain": [
       "'Gdcbx7a'"
      ]
     },
     "execution_count": 27,
     "metadata": {},
     "output_type": "execute_result"
    }
   ],
   "source": [
    "clave = \"xG7abcd\"\n",
    "m = 7\n",
    "letras = random.sample(clave, m)\n",
    "clave = \"\".join(letras)\n",
    "clave"
   ]
  },
  {
   "cell_type": "markdown",
   "metadata": {},
   "source": [
    "Reto: Modifica el script `claves.py` para que incluya cuando menos un símbolo `($%&/#@-_=+-*)` como parte de las claves.\n",
    "\n",
    "```\n",
    "$ python claves.py\n",
    "Número de claves a generar: 5\n",
    "Longitud de claves (8): 8\n",
    "U2$m=PE1\n",
    "R+w%8kA1\n",
    "$y3/tKHi\n",
    "7m&/OZ0M\n",
    "I1d/L-j-\n",
    "```"
   ]
  },
  {
   "cell_type": "markdown",
   "metadata": {},
   "source": [
    "---\n",
    "### Diccionarios\n",
    "\n",
    "Ejemplo: Modifica el script `reservaciones.py` de la Sesion-01 para que los datos de las reservaciones estén en una sola variable de tipo diccionario y entonces imprimirlo por medio de un ciclo `for`. Los datos de cada reservación debe incluir concepto, cantidad y precio unitario. Los resultado a imprimir debe incluir las columnas Concepto, Cantidad, Precio y Subtotal, donde Subtotal deberá de ser calculado.\n",
    "\n",
    "```\n",
    "--------------------------------------------------------\n",
    "CONCEPTO            | CANTIDAD | PRECIO    | SUBTOTAL \n",
    "--------------------------------------------------------\n",
    "Habitación doble    |        3 | 150000.00 | 450000.00\n",
    "Transporte          |        2 |   3000.00 |   6000.00\n",
    "Tour en lancha      |        1 |   2170.00 |   2170.00\n",
    "Alimentos y bebidas |        2 |   5000.00 |  10000.00\n",
    "--------------------------------------------------------\n",
    "```"
   ]
  },
  {
   "cell_type": "markdown",
   "metadata": {},
   "source": [
    "Reto: Modifica el script `reservaciones.py` para que también imprima el total de la reservación.\n",
    "\n",
    "```\n",
    "--------------------------------------------------------\n",
    "CONCEPTO            | CANTIDAD | PRECIO    | SUBTOTAL \n",
    "--------------------------------------------------------\n",
    "Habitación doble    |        3 | 150000.00 | 450000.00\n",
    "Transporte          |        2 |   3000.00 |   6000.00\n",
    "Tour en lancha      |        1 |   2170.00 |   2170.00\n",
    "Alimentos y bebidas |        2 |   5000.00 |  10000.00\n",
    "--------------------------------------------------------\n",
    "                               |    Total: | 468170.00\n",
    "```"
   ]
  },
  {
   "cell_type": "markdown",
   "metadata": {},
   "source": [
    "---\n",
    "### Funciones\n",
    "\n",
    "Ejemplo: Modifica el script `claves.py` para que la lectura de un entero se realice por medio de una función llamada `lee_entero()`"
   ]
  },
  {
   "cell_type": "markdown",
   "metadata": {},
   "source": [
    "Ejemplo: Modifica el script `reservaciones.py` para que los datos de los conceptos de una reservación se obtengan por medio de la función `obtiene_conceptos()`"
   ]
  },
  {
   "cell_type": "markdown",
   "metadata": {},
   "source": [
    "Reto: Modifica el script `reservaciones.py` para que la impresión de la tabla se realice con la función `imprime_txt()`"
   ]
  },
  {
   "cell_type": "markdown",
   "metadata": {},
   "source": [
    "---\n",
    "### Funciones Lambda y ordenamiento de listas.\n",
    "\n",
    "Ejemplo: Modifica el script `reservaciones.py` para que ordene la tabla en base a la columna de CONCEPTO.\n",
    "\n",
    "```\n",
    "--------------------------------------------------------\n",
    "CONCEPTO            | CANTIDAD | PRECIO    | SUBTOTAL \n",
    "--------------------------------------------------------\n",
    "Alimentos y bebidas |        2 |   5000.00 |  10000.00\n",
    "Habitación doble    |        3 | 150000.00 | 450000.00\n",
    "Tour en lancha      |        1 |   2170.00 |   2170.00\n",
    "Transporte          |        2 |   3000.00 |   6000.00\n",
    "--------------------------------------------------------\n",
    "                               |    Total: | 468170.00\n",
    "```"
   ]
  },
  {
   "cell_type": "markdown",
   "metadata": {},
   "source": [
    "Reto: Modifica el script `reservaciones.py` para que ordene la tabla en base a la columna CANTIDAD.\n",
    "\n",
    "```\n",
    "--------------------------------------------------------\n",
    "CONCEPTO            | CANTIDAD | PRECIO    | SUBTOTAL \n",
    "--------------------------------------------------------\n",
    "Habitación doble    |        3 | 150000.00 | 450000.00\n",
    "Alimentos y bebidas |        2 |   5000.00 |  10000.00\n",
    "Transporte          |        2 |   3000.00 |   6000.00\n",
    "Tour en lancha      |        1 |   2170.00 |   2170.00\n",
    "--------------------------------------------------------\n",
    "                               |    Total: | 468170.00\n",
    "```"
   ]
  },
  {
   "cell_type": "code",
   "execution_count": null,
   "metadata": {},
   "outputs": [],
   "source": []
  }
 ],
 "metadata": {
  "kernelspec": {
   "display_name": "Python 3",
   "language": "python",
   "name": "python3"
  },
  "language_info": {
   "codemirror_mode": {
    "name": "ipython",
    "version": 3
   },
   "file_extension": ".py",
   "mimetype": "text/x-python",
   "name": "python",
   "nbconvert_exporter": "python",
   "pygments_lexer": "ipython3",
   "version": "3.7.4"
  }
 },
 "nbformat": 4,
 "nbformat_minor": 4
}
