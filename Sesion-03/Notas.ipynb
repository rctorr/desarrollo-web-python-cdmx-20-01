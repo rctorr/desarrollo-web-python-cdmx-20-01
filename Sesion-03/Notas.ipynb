{
 "cells": [
  {
   "cell_type": "markdown",
   "metadata": {},
   "source": [
    "---\n",
    "---\n",
    "### Módulos y paquetes\n",
    "---\n",
    "#### EJEMPLO: El módulo [os](https://docs.python.org/3/library/os.html) y [os.path](https://docs.python.org/3/library/os.path.html)\n",
    "\n",
    "Escribe el código en Python para que imprima una Lista de Elementos (LE) de la carpeta actual haciendo uso del módulo `os`, después haciendo uso del módulo `os.path` agrega la columna del tamaño en bytes de cada elemento.\n",
    "\n",
    "```\n",
    "  87  le.py\n",
    "2891  Retos.ipynb\n",
    "4096  .ipynb_checkpoints\n",
    "6857  Notas.ipynb\n",
    "```"
   ]
  },
  {
   "cell_type": "code",
   "execution_count": 13,
   "metadata": {},
   "outputs": [
    {
     "name": "stdout",
     "output_type": "stream",
     "text": [
      "       848  /home/rctorr/Escritorio/3-sql.md\n",
      "       256  /home/rctorr/Escritorio/movies.sql\n",
      "       265  /home/rctorr/Escritorio/ciencia-datos-nivelacion.md\n",
      "       506  /home/rctorr/Escritorio/archivos.csv\n",
      "       314  /home/rctorr/Escritorio/chrome-cceldcodjmleepchmhnfbjmelkchjfih-Default.desktop\n",
      "       324  /home/rctorr/Escritorio/chrome-efmjfjelnicpmdcmfikempdhlmainjcb-Default.desktop\n",
      "    180224  /home/rctorr/Escritorio/fotos-2020\n",
      "       272  /home/rctorr/Escritorio/curso.sql\n",
      "      4096  /home/rctorr/Escritorio/videos-201912\n",
      "      4096  /home/rctorr/Escritorio/fotos-201912\n"
     ]
    }
   ],
   "source": [
    "import os\n",
    "\n",
    "def obtener_elementos(carp):\n",
    "    \"\"\" Obtener la lista de elemento de carp y regresarla \"\"\"\n",
    "    \"\"\"\n",
    "    elementos = [\n",
    "        [\"nom1\", 1234],\n",
    "        [\"nom2\", 345],\n",
    "        [\"nom3\", 567],\n",
    "        ...\n",
    "    ]\n",
    "    \"\"\"\n",
    "    nombres = os.listdir(carp)\n",
    "    elementos = []\n",
    "    for nom in nombres:\n",
    "        nom = os.path.join(carp, nom)  # /home/rctorr/Escritorio/3-sql.md  \n",
    "        tam = os.path.getsize(nom)  \n",
    "        elementos.append([nom, tam])\n",
    "    \n",
    "    return elementos\n",
    "\n",
    "def imprime_txt(elementos):\n",
    "    \"\"\" Imprime la lista de elementos en formato txt \"\"\"\n",
    "    for e in elementos:\n",
    "        print(\"{:10}  {}\".format(e[1], e[0]) )\n",
    "        # print(\"{:10}  {}\".format(*e) )  # *e -> desempacar valores\n",
    "    \n",
    "##### Instruciones general\n",
    "# carpeta = \".\"\n",
    "# Mostrando lista de elementos de la carpeta Escritorio\n",
    "carpeta = \"/home/rctorr/Escritorio\"\n",
    "# carpeta = \"/home/rctorr/vacia\"\n",
    "\n",
    "elementos = obtener_elementos(carpeta)\n",
    "imprime_txt(elementos)"
   ]
  },
  {
   "cell_type": "markdown",
   "metadata": {},
   "source": [
    "---\n",
    "#### RETO:\n",
    "\n",
    "Copia el código anterior y modificalo para que imprima los elementos ordenados por nombre.\n",
    "\n",
    "```\n",
    "4096  .ipynb_checkpoints\n",
    " 120  le.py\n",
    "6712  Notas.ipynb\n",
    "2891  Retos.ipynb\n",
    "```"
   ]
  },
  {
   "cell_type": "code",
   "execution_count": 19,
   "metadata": {},
   "outputs": [
    {
     "name": "stdout",
     "output_type": "stream",
     "text": [
      "      4096  ./.ipynb_checkpoints\n",
      "         0  ./hola.txt\n",
      "     10198  ./Notas.ipynb\n",
      "      2788  ./Retos.ipynb\n"
     ]
    }
   ],
   "source": [
    "import os\n",
    "\n",
    "def obtener_elementos(carp):\n",
    "    \"\"\" Obtener la lista de elemento de carp y regresarla \"\"\"\n",
    "    \"\"\"\n",
    "    elementos = [\n",
    "        [\"nom1\", 1234],\n",
    "        [\"nom2\", 345],\n",
    "        [\"nom3\", 567],\n",
    "        ...\n",
    "    ]\n",
    "    \"\"\"\n",
    "    nombres = os.listdir(carp)\n",
    "    elementos = []\n",
    "    for nom in nombres:\n",
    "        nom = os.path.join(carp, nom)  # /home/rctorr/Escritorio/3-sql.md  \n",
    "        tam = os.path.getsize(nom)  \n",
    "        elementos.append([nom, tam])\n",
    "    \n",
    "    return elementos\n",
    "\n",
    "def imprime_txt(elementos):\n",
    "    \"\"\" Imprime la lista de elementos en formato txt \"\"\"\n",
    "    for e in elementos:\n",
    "        print(\"{:10}  {}\".format(e[1], e[0]) )\n",
    "        # print(\"{:10}  {}\".format(*e) )  # *e -> desempacar valores\n",
    "    \n",
    "##### Instruciones general\n",
    "carpeta = \".\"\n",
    "# Mostrando lista de elementos de la carpeta Escritorio\n",
    "# carpeta = \"/home/rctorr/Escritorio\"\n",
    "# carpeta = \"/home/rctorr/vacia\"\n",
    "\n",
    "elementos = obtener_elementos(carpeta)\n",
    "\n",
    "# Ordenar por nombre\n",
    "elementos.sort(key=lambda elemento: elemento[0].upper())\n",
    "\n",
    "imprime_txt(elementos)"
   ]
  },
  {
   "cell_type": "markdown",
   "metadata": {},
   "source": [
    "---\n",
    "#### EJEMPLO: El módulo os.path y [datetime.datetime](https://docs.python.org/3/library/datetime.html#datetime-objects)\n",
    "\n",
    "Modifica el código del reto o ejemplo anterior para agregar como segunda columna la fecha de la última modificación de cada elementos haciendo uso de los módulos `os.path` y `datetime.datetime`.\n",
    "\n",
    "```\n",
    " 214  2020-05-30T04:34:16  le.py\n",
    "2891  2020-05-30T04:03:22  Retos.ipynb\n",
    "4096  2020-05-30T04:11:18  .ipynb_checkpoints\n",
    "8370  2020-05-30T04:32:40  Notas.ipynb \n",
    "```"
   ]
  },
  {
   "cell_type": "code",
   "execution_count": 29,
   "metadata": {},
   "outputs": [
    {
     "name": "stdout",
     "output_type": "stream",
     "text": [
      "      4096  2020-05-30 05:24:16  ./.ipynb_checkpoints\n",
      "         0  2020-06-03 20:57:33  ./hola.txt\n",
      "     12144  2020-06-03 21:21:44  ./Notas.ipynb\n",
      "      2788  2020-06-03 17:14:43  ./Retos.ipynb\n"
     ]
    }
   ],
   "source": [
    "import datetime\n",
    "import os\n",
    "\n",
    "def obtener_elementos(carp):\n",
    "    \"\"\" Obtener la lista de elemento de carp y regresarla \"\"\"\n",
    "    \"\"\"\n",
    "    elementos = [\n",
    "        [\"nom1\", 1234],\n",
    "        [\"nom2\", 345],\n",
    "        [\"nom3\", 567],\n",
    "        ...\n",
    "    ]\n",
    "    \"\"\"\n",
    "    nombres = os.listdir(carp)\n",
    "    elementos = []\n",
    "    for nom in nombres:\n",
    "        nom = os.path.join(carp, nom)  # /home/rctorr/Escritorio/3-sql.md  \n",
    "        tam = os.path.getsize(nom)\n",
    "        fecha = os.path.getmtime(nom)  # epoc o timestamp\n",
    "        fecha = datetime.datetime.fromtimestamp(fecha)  # datetime\n",
    "        elementos.append([nom, tam, fecha])\n",
    "    \n",
    "    return elementos\n",
    "\n",
    "def imprime_txt(elementos):\n",
    "    \"\"\" Imprime la lista de elementos en formato txt \"\"\"\n",
    "    for e in elementos:\n",
    "        fecha = e[2].strftime(\"%Y-%m-%d %H:%M:%S\")\n",
    "        print(\"{:10}  {}  {}\".format(e[1], fecha, e[0]) )\n",
    "        # print(\"{:10}  {}\".format(*e) )  # *e -> desempacar valores\n",
    "    \n",
    "##### Instruciones general\n",
    "carpeta = \".\"\n",
    "# Mostrando lista de elementos de la carpeta Escritorio\n",
    "# carpeta = \"/home/rctorr/Escritorio\"\n",
    "# carpeta = \"/home/rctorr/vacia\"\n",
    "\n",
    "elementos = obtener_elementos(carpeta)\n",
    "\n",
    "# Ordenar por nombre\n",
    "elementos.sort(key=lambda elemento: elemento[0].upper())\n",
    "\n",
    "imprime_txt(elementos)"
   ]
  },
  {
   "cell_type": "markdown",
   "metadata": {},
   "source": [
    "---\n",
    "#### RETO:\n",
    "\n",
    "Copia y modifica el código del ejemplo anterior para que imprima los elementos ordenados por fecha, los más recientes primero.\n",
    "\n",
    "```\n",
    " 338  2020-05-30T04:41:26  le.py\n",
    "8282  2020-05-30T04:36:35  Notas.ipynb\n",
    "4096  2020-05-30T04:11:18  .ipynb_checkpoints\n",
    "2891  2020-05-30T04:03:22  Retos.ipynb$ \n",
    "```"
   ]
  },
  {
   "cell_type": "code",
   "execution_count": null,
   "metadata": {},
   "outputs": [],
   "source": []
  },
  {
   "cell_type": "markdown",
   "metadata": {},
   "source": [
    "---\n",
    "#### EJEMPLO: El módulo [http.server](https://docs.python.org/3/library/http.server.html)\n",
    "\n",
    "En una terminal inicia un servidor web y muestra la lista de archivos de la carpeta actual. Recuerda precionar Control+C para detener el servidor.\n",
    "\n",
    "```\n",
    "$ python -m http.server\n",
    "Serving HTTP on 0.0.0.0 port 8000 (http://0.0.0.0:8000/)\n",
    "\n",
    "```\n",
    "\n",
    "Entonces ahora en un navegador web abre la dirección http://0.0.0.0:8000/, en Windows es posible que tengan que abrir la dirección: http://127.0.0.1:8000/ y observa la lista de archivos de tu carpeta actual."
   ]
  },
  {
   "cell_type": "markdown",
   "metadata": {},
   "source": [
    "---\n",
    "#### EJEMPLO: El documento raíz y el archivo index.html\n",
    "\n",
    "Agrega el archivo `index.html` a la carpeta actual con el siguiente contenido y actualiza el navegador del ejemplo anterior y observa el resultado.\n",
    "\n",
    "```\n",
    "<html>\n",
    "<body>\n",
    "  <h3>Hola Python</h3>\n",
    "</body>\n",
    "</html>\n",
    "```"
   ]
  },
  {
   "cell_type": "markdown",
   "metadata": {},
   "source": [
    "---\n",
    "#### RETO:\n",
    "\n",
    "Modifica el archivo `index.html` para que incluya una imagen después del texto. La imagen tiene que estar en la carpeta `img/`, actualiza el navegador para ver el resultado."
   ]
  },
  {
   "cell_type": "markdown",
   "metadata": {},
   "source": [
    "---\n",
    "---\n",
    "### Creando módulos\n",
    "---\n",
    "#### EJEMPLO: El módulo [click](https://click.palletsprojects.com/en/7.x/)\n",
    "\n",
    "Instalación: `pip install click`\n",
    "\n",
    "Modifica el script `reservaciones.py` para que:\n",
    "- Se convierta en un módulo\n",
    "- Permita usar la opción `--html` para que imprima la tabla en formato HTML agregando la función `imprime_html()` y haciendo uso del módulo `click`\n",
    "\n",
    "```\n",
    "$ python reservaciones.py --html\n",
    "...\n",
    "```\n",
    "\n",
    "Guarda el resultado en un archivo usando el siguiente instrucción:\n",
    "\n",
    "```\n",
    "$ python reservaciones.py --html > salida.html\n",
    "$\n",
    "```\n",
    "\n",
    "Ahora puedes abrir el archivo desde un navegador con la ruta http://0.0.0.0:8000/salida.html"
   ]
  },
  {
   "cell_type": "markdown",
   "metadata": {},
   "source": [
    "---\n",
    "#### RETO:\n",
    "\n",
    "Modifica el script `reservaciones.py` para que también imprima la reservación en formato CSV haciendo uso de la opción `--csv`\n",
    "\n",
    "```\n",
    "$ python reservaciones.py --csv\n",
    "...\n",
    "```\n",
    "\n",
    "Guarda el resultado en un archivo usando el siguiente instrucción:\n",
    "\n",
    "```\n",
    "$ python reservaciones.py --csv > salida.csv\n",
    "$\n",
    "```\n",
    "\n",
    "Ahora puedes abrir el archivo `salida.csv` en una hoja de cálculo o desde el navegador usando la dirección http://0.0.0.0:8000/salida.csv\n",
    "\n",
    "¿Qué sucede al abrir el archivo salida.csv desde el navegador?\n",
    "\n",
    "Comenta tus observaciones."
   ]
  },
  {
   "cell_type": "code",
   "execution_count": 1,
   "metadata": {},
   "outputs": [],
   "source": [
    "import random"
   ]
  },
  {
   "cell_type": "code",
   "execution_count": 2,
   "metadata": {},
   "outputs": [],
   "source": [
    "import os"
   ]
  },
  {
   "cell_type": "code",
   "execution_count": 5,
   "metadata": {},
   "outputs": [],
   "source": [
    "import reservaciones"
   ]
  },
  {
   "cell_type": "code",
   "execution_count": null,
   "metadata": {},
   "outputs": [],
   "source": []
  }
 ],
 "metadata": {
  "kernelspec": {
   "display_name": "Python 3",
   "language": "python",
   "name": "python3"
  },
  "language_info": {
   "codemirror_mode": {
    "name": "ipython",
    "version": 3
   },
   "file_extension": ".py",
   "mimetype": "text/x-python",
   "name": "python",
   "nbconvert_exporter": "python",
   "pygments_lexer": "ipython3",
   "version": "3.7.4"
  }
 },
 "nbformat": 4,
 "nbformat_minor": 4
}
