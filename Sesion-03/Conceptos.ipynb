{
 "cells": [
  {
   "cell_type": "markdown",
   "metadata": {},
   "source": [
    "## Ordenando listas, ejemplos!"
   ]
  },
  {
   "cell_type": "code",
   "execution_count": 3,
   "metadata": {},
   "outputs": [
    {
     "data": {
      "text/plain": [
       "[2, 3, 4, 5, 5.5, 6, 9, 11]"
      ]
     },
     "execution_count": 3,
     "metadata": {},
     "output_type": "execute_result"
    }
   ],
   "source": [
    "l = [5,6,3,9,2,11,4,5.5]\n",
    "l.sort()\n",
    "l"
   ]
  },
  {
   "cell_type": "code",
   "execution_count": 7,
   "metadata": {},
   "outputs": [
    {
     "name": "stdout",
     "output_type": "stream",
     "text": [
      "[5, 6, 3, 9, 2, 11, 4, 5.5]\n",
      "[2, 3, 4, 5, 5.5, 6, 9, 11]\n"
     ]
    }
   ],
   "source": [
    "l = [5,6,3,9,2,11,4,5.5]\n",
    "l2 = sorted(l)\n",
    "print(l)\n",
    "print(l2)"
   ]
  },
  {
   "cell_type": "code",
   "execution_count": 17,
   "metadata": {},
   "outputs": [
    {
     "name": "stdout",
     "output_type": "stream",
     "text": [
      "[5, 6, 3, 9, 2, 11, 4, '6', '345']\n",
      "[5.0, 6.0, 3.0, 9.0, 2.0, 11.0, 4.0, 6.0, 345.0]\n",
      "[2.0, 3.0, 4.0, 5.0, 6.0, 6.0, 9.0, 11.0, 345.0]\n"
     ]
    }
   ],
   "source": [
    "l = [5,6,3,9,2,11,4, \"6\", \"345\"]\n",
    "l2 = []\n",
    "for i in l:\n",
    "     l2.append(float(i))\n",
    "print(l)\n",
    "print(l2)\n",
    "print(sorted(l2))\n"
   ]
  },
  {
   "cell_type": "code",
   "execution_count": 19,
   "metadata": {},
   "outputs": [
    {
     "data": {
      "text/plain": [
       "77.78"
      ]
     },
     "execution_count": 19,
     "metadata": {},
     "output_type": "execute_result"
    }
   ],
   "source": [
    "a = 77.7777\n",
    "a = round(a, 2)\n",
    "a"
   ]
  },
  {
   "cell_type": "code",
   "execution_count": 23,
   "metadata": {},
   "outputs": [
    {
     "name": "stdout",
     "output_type": "stream",
     "text": [
      "77.78\n",
      "77.7777\n"
     ]
    }
   ],
   "source": [
    "a = 77.7777\n",
    "print(\"{:5.2f}\".format(a) )\n",
    "print(a)"
   ]
  },
  {
   "cell_type": "markdown",
   "metadata": {},
   "source": [
    "---\n",
    "## Funciones lambda, ejemplos!"
   ]
  },
  {
   "cell_type": "markdown",
   "metadata": {},
   "source": [
    "---\n",
    "### Crear una función llamada pow() que permita elevar un número x a una potencia n"
   ]
  },
  {
   "cell_type": "markdown",
   "metadata": {},
   "source": [
    "#### Usando funciones convencionales"
   ]
  },
  {
   "cell_type": "code",
   "execution_count": 44,
   "metadata": {},
   "outputs": [
    {
     "data": {
      "text/plain": [
       "125"
      ]
     },
     "execution_count": 44,
     "metadata": {},
     "output_type": "execute_result"
    }
   ],
   "source": [
    "def pow(x, n):\n",
    "    \"\"\" Eleva x a la potencia n \"\"\"\n",
    "    resultado = x ** n\n",
    "    \n",
    "    return resultado\n",
    "\n",
    "pow(5, 3)"
   ]
  },
  {
   "cell_type": "markdown",
   "metadata": {},
   "source": [
    "#### Usando funciones lambda"
   ]
  },
  {
   "cell_type": "code",
   "execution_count": 33,
   "metadata": {},
   "outputs": [
    {
     "data": {
      "text/plain": [
       "125"
      ]
     },
     "execution_count": 33,
     "metadata": {},
     "output_type": "execute_result"
    }
   ],
   "source": [
    "# Funciones lambda\n",
    "pow = lambda x, n: x ** n\n",
    "\n",
    "pow(5, 3)"
   ]
  },
  {
   "cell_type": "markdown",
   "metadata": {},
   "source": [
    "---\n",
    "### Ordenar una lista de cadenas de texto alfabéticamente, osea las mayúsculas y minúsculas se ordenan por igual."
   ]
  },
  {
   "cell_type": "code",
   "execution_count": 46,
   "metadata": {},
   "outputs": [
    {
     "data": {
      "text/plain": [
       "['Cuatro', 'TRES', 'Uno', 'cinco', 'dos']"
      ]
     },
     "execution_count": 46,
     "metadata": {},
     "output_type": "execute_result"
    }
   ],
   "source": [
    "l = [\"Uno\", \"dos\", \"TRES\", \"Cuatro\", \"cinco\"]\n",
    "sorted(l)"
   ]
  },
  {
   "cell_type": "markdown",
   "metadata": {},
   "source": [
    "#### Usando funciones convencionales"
   ]
  },
  {
   "cell_type": "code",
   "execution_count": 47,
   "metadata": {},
   "outputs": [
    {
     "data": {
      "text/plain": [
       "['cinco', 'Cuatro', 'dos', 'TRES', 'Uno']"
      ]
     },
     "execution_count": 47,
     "metadata": {},
     "output_type": "execute_result"
    }
   ],
   "source": [
    "def minusculas(palabra):\n",
    "    \"\"\" Regresa la palabra en minúsculas \"\"\"\n",
    "    return palabra.lower()\n",
    "\n",
    "sorted(l, key=minusculas)"
   ]
  },
  {
   "cell_type": "markdown",
   "metadata": {},
   "source": [
    "#### Usando funciones lambda"
   ]
  },
  {
   "cell_type": "code",
   "execution_count": 39,
   "metadata": {},
   "outputs": [
    {
     "data": {
      "text/plain": [
       "['cinco', 'Cuatro', 'dos', 'TRES', 'Uno']"
      ]
     },
     "execution_count": 39,
     "metadata": {},
     "output_type": "execute_result"
    }
   ],
   "source": [
    "sorted(l, key=lambda palabra: palabra.lower())"
   ]
  },
  {
   "cell_type": "markdown",
   "metadata": {},
   "source": [
    "---\n",
    "### Por medio de funciones hacer que siguiente código sea más simple, en este caso la funciones podrían asociarse al concepto de MACROS en otro lenguajes o herramientas."
   ]
  },
  {
   "cell_type": "code",
   "execution_count": 48,
   "metadata": {},
   "outputs": [
    {
     "name": "stdout",
     "output_type": "stream",
     "text": [
      "---------------------\n",
      "Tabla de verdad AND\n",
      "---------------------\n",
      "True  | True  | True \n",
      "True  | False | False\n",
      "False | True  | False\n",
      "False | False | False\n",
      "---------------------\n"
     ]
    }
   ],
   "source": [
    "linea = \"-\" * 21\n",
    "print(linea)\n",
    "print(\"Tabla de verdad AND\")\n",
    "print(linea)\n",
    "fila = \"{:5} | {:5} | {:5}\"\n",
    "t, f = True, False\n",
    "print(fila.format(str(t), str(t), str(t and t)))\n",
    "print(fila.format(str(t), str(f), str(t and f)))\n",
    "print(fila.format(str(f), str(t), str(f and t)))\n",
    "print(fila.format(str(f), str(f), str(f and f)))\n",
    "print(linea)"
   ]
  },
  {
   "cell_type": "markdown",
   "metadata": {},
   "source": [
    "#### Usando funciones convencionales"
   ]
  },
  {
   "cell_type": "code",
   "execution_count": 52,
   "metadata": {},
   "outputs": [
    {
     "name": "stdout",
     "output_type": "stream",
     "text": [
      "---------------------\n",
      "Tabla de verdad AND\n",
      "---------------------\n",
      "True  | True  | True \n",
      "True  | False | False\n",
      "False | True  | False\n",
      "False | False | False\n",
      "---------------------\n"
     ]
    }
   ],
   "source": [
    "def linea(n):\n",
    "    print(\"-\"*n)\n",
    "\n",
    "def fila(op1, op2):\n",
    "    print(\"{:5} | {:5} | {:5}\".format(\n",
    "        str(op1), str(op2), str(op1 and op2)))\n",
    "\n",
    "linea(21)  # ---\n",
    "print(\"Tabla de verdad AND\")\n",
    "linea(21)  # ---\n",
    "t, f = True, False\n",
    "fila(t, t)\n",
    "fila(t, f)\n",
    "fila(f, t)\n",
    "fila(f, f)\n",
    "linea(21)  # ---"
   ]
  },
  {
   "cell_type": "markdown",
   "metadata": {},
   "source": [
    "#### Usando funciones lambda"
   ]
  },
  {
   "cell_type": "code",
   "execution_count": 2,
   "metadata": {},
   "outputs": [
    {
     "name": "stdout",
     "output_type": "stream",
     "text": [
      "---------------------\n",
      "Tabla de verdad AND\n",
      "---------------------\n",
      "True  | True  | True \n",
      "True  | False | False\n",
      "False | True  | False\n",
      "False | False | False\n",
      "---------------------\n"
     ]
    }
   ],
   "source": [
    "linea = lambda n: print(\"-\" * n)\n",
    "fila = lambda op1, op2: print(\"{:5} | {:5} | {:5}\".format(\n",
    "    str(op1), str(op2), str(op1 and op2)))\n",
    "\n",
    "linea(21)  # ---\n",
    "print(\"Tabla de verdad AND\")\n",
    "linea(21)  # ---\n",
    "t, f = True, False\n",
    "fila(t, t)\n",
    "fila(t, f)\n",
    "fila(f, t)\n",
    "fila(f, f)\n",
    "linea(21)  # ---"
   ]
  },
  {
   "cell_type": "code",
   "execution_count": 12,
   "metadata": {},
   "outputs": [
    {
     "data": {
      "text/plain": [
       "['a', 'A', 'F']"
      ]
     },
     "execution_count": 12,
     "metadata": {},
     "output_type": "execute_result"
    }
   ],
   "source": [
    "def minusculas(x):\n",
    "    return x.lower()\n",
    "\n",
    "sorted([\"F\",\"a\",\"A\"], key=minusculas)"
   ]
  },
  {
   "cell_type": "code",
   "execution_count": null,
   "metadata": {},
   "outputs": [],
   "source": []
  }
 ],
 "metadata": {
  "kernelspec": {
   "display_name": "Python 3",
   "language": "python",
   "name": "python3"
  },
  "language_info": {
   "codemirror_mode": {
    "name": "ipython",
    "version": 3
   },
   "file_extension": ".py",
   "mimetype": "text/x-python",
   "name": "python",
   "nbconvert_exporter": "python",
   "pygments_lexer": "ipython3",
   "version": "3.7.4"
  }
 },
 "nbformat": 4,
 "nbformat_minor": 4
}
