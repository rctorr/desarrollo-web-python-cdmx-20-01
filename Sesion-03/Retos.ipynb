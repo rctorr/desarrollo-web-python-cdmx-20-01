{
 "cells": [
  {
   "cell_type": "markdown",
   "metadata": {},
   "source": [
    "# RETOS"
   ]
  },
  {
   "cell_type": "markdown",
   "metadata": {},
   "source": [
    "---\n",
    "#### RETO 1:\n",
    "\n",
    "Copia el código anterior y modificalo para que imprima los elementos ordenados por nombre.\n",
    "\n",
    "```\n",
    "4096  .ipynb_checkpoints\n",
    " 120  le.py\n",
    "6712  Notas.ipynb\n",
    "2891  Retos.ipynb\n",
    "```"
   ]
  },
  {
   "cell_type": "code",
   "execution_count": 2,
   "metadata": {},
   "outputs": [],
   "source": [
    "# tu código aquí"
   ]
  },
  {
   "cell_type": "markdown",
   "metadata": {},
   "source": [
    "---\n",
    "#### RETO 2:\n",
    "\n",
    "Copia y modifica el código del ejemplo anterior para que imprima los elementos ordenados por fecha, los más recientes primero.\n",
    "\n",
    "```\n",
    " 338  2020-05-30T04:41:26  le.py\n",
    "8282  2020-05-30T04:36:35  Notas.ipynb\n",
    "4096  2020-05-30T04:11:18  .ipynb_checkpoints\n",
    "2891  2020-05-30T04:03:22  Retos.ipynb$ \n",
    "```"
   ]
  },
  {
   "cell_type": "code",
   "execution_count": 2,
   "metadata": {},
   "outputs": [],
   "source": [
    "# tu código aquí"
   ]
  },
  {
   "cell_type": "markdown",
   "metadata": {},
   "source": [
    "---\n",
    "#### RETO 3:\n",
    "\n",
    "Modifica el archivo `index.html` para que incluya una imagen después del texto. La imagen tiene que estar en la carpeta `img/`, actualiza el navegador para ver el resultado."
   ]
  },
  {
   "cell_type": "markdown",
   "metadata": {},
   "source": [
    "---\n",
    "#### RETO 4:\n",
    "\n",
    "Modifica el script `reservaciones.py` para que también imprima la reservación en formato CSV haciendo uso de la opción `--csv`\n",
    "\n",
    "```\n",
    "$ python reservaciones.py --csv\n",
    "...\n",
    "```\n",
    "\n",
    "Guarda el resultado en un archivo usando el siguiente instrucción:\n",
    "\n",
    "```\n",
    "$ python reservaciones.py --csv > salida.csv\n",
    "$\n",
    "```\n",
    "\n",
    "Ahora puedes abrir el archivo `salida.csv` en una hoja de cálculo o desde el navegador usando la dirección http://0.0.0.0:8000/salida.csv\n",
    "\n",
    "¿Qué sucede al abrir el archivo salida.csv desde el navegador?\n",
    "\n",
    "Comenta tus observaciones."
   ]
  }
 ],
 "metadata": {
  "kernelspec": {
   "display_name": "Python 3",
   "language": "python",
   "name": "python3"
  },
  "language_info": {
   "codemirror_mode": {
    "name": "ipython",
    "version": 3
   },
   "file_extension": ".py",
   "mimetype": "text/x-python",
   "name": "python",
   "nbconvert_exporter": "python",
   "pygments_lexer": "ipython3",
   "version": "3.7.4"
  }
 },
 "nbformat": 4,
 "nbformat_minor": 4
}
