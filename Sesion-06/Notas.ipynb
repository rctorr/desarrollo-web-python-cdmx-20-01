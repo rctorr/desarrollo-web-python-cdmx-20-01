{
 "cells": [
  {
   "cell_type": "markdown",
   "metadata": {},
   "source": [
    "---\n",
    "---\n",
    "### Servidores HTTP (web)\n",
    "---\n",
    "#### EJEMPLO: El módulo [http.server](https://docs.python.org/3.7/library/http.server.html)\n",
    "\n",
    "Crea un servidor web usando el módulo `http.server` en la carpeta actual y abre el navegador con la dirección http://172.0.0.1:8000.\n",
    "\n",
    "Comenta tus observaciones."
   ]
  },
  {
   "cell_type": "markdown",
   "metadata": {},
   "source": [
    "---\n",
    "#### EJEMPLO: La carpeta raíz y el archivo `index.html`\n",
    "\n",
    "Crea el archivo `index.html` en la carpeta actual con el siguiente contenido:\n",
    "\n",
    "```\n",
    "<html>\n",
    "<body>\n",
    "  <h2>Página principal del servidor web en Python</h2>\n",
    "</body>\n",
    "</html>\n",
    "```\n",
    "\n",
    "Actualiza la ventana del navegador abierta enterior mente y comenta tus observaciones"
   ]
  },
  {
   "cell_type": "markdown",
   "metadata": {},
   "source": [
    "---\n",
    "#### EJEMPLO: El módulo [bottle](https://bottlepy.org/docs/dev/)\n",
    "\n",
    "Para su instalación se descarga el archivo desde siguiente dirección https://bottlepy.org/bottle.py\n",
    "\n",
    "Mueve el archivo y colócalo en la carpeta de la Sesión-06.\n",
    "\n",
    "Ahora crear el script `hola.py` para que atienda la petición `GET /hola/<nombre>` donde \\<nombre\\> es cualquier texto que uno escriba y que deberá ser mostrado en el mensaje de respuesta en la página como: `Hola como estás <nombre>`\n",
    "\n",
    "El script se ejecuta de la siguiente forma:\n",
    "\n",
    "```\n",
    "$ python hola.py\n",
    "Bottle v0.12.17 server starting up (using WSGIRefServer())...\n",
    "Listening on http://localhost:8080/\n",
    "Hit Ctrl-C to quit.\n",
    "```\n",
    "\n",
    "Ahora abre tu navegador en la dirección http://localhost:8080 y comenta lo observado\n",
    "\n",
    "Ahora abre tu navegador en la dirección http://localhost:8080/hola y comenta lo observado\n",
    "\n",
    "Ahora abre tu navegador en la dirección http://localhost:8080/hola/tu_nombre y comenta lo observado\n",
    "\n",
    "Observa que las aplicaciones web creadas en Python siguen el principio de seguridad __\"Todo está prohivido a menos que esté permitido\"__."
   ]
  },
  {
   "cell_type": "markdown",
   "metadata": {},
   "source": [
    "---\n",
    "#### EJEMPLO: El módulo [bottle](https://bottlepy.org/docs/dev/) aplicado a las reservaciones\n",
    "\n",
    "Mueve el archivo `reservacion.py` de la Sesion-05 y colócalo en la carpeta actual.\n",
    "\n",
    "Ahora crear el script `reservacionapp.py` para que atienda la petición `GET /reservacion/<id>` donde \\<id\\> es el id de la reservación a mostrar en la página. Genera el código html y css correspondiente para mostrar la reservación en forma de tabla.\n",
    "\n",
    "El script se ejecuta de la siguiente forma:\n",
    "\n",
    "```\n",
    "$ python reservacionapp.py\n",
    "Bottle v0.12.17 server starting up (using WSGIRefServer())...\n",
    "Listening on http://localhost:8080/\n",
    "Hit Ctrl-C to quit.\n",
    "```\n",
    "\n",
    "Ahora abre tu navegador en la dirección http://localhost:8080/reservacion/1 y comenta lo observado"
   ]
  },
  {
   "cell_type": "markdown",
   "metadata": {},
   "source": [
    "---\n",
    "#### RETO: El módulo [bottle](https://bottlepy.org/docs/dev/) aplicado a las reservaciones\n",
    "\n",
    "Modifica el script `reservacionapp.py` para que atienda la petición `GET /` (o sea, el documento raíz) para que imprima la lista de todos los servicios de todas las reservaciones contenidas en el archivo `reservaciones.csv`.\n",
    "\n",
    "El script se ejecuta de la siguiente forma:\n",
    "\n",
    "```\n",
    "$ python reservacionapp.py\n",
    "Bottle v0.12.17 server starting up (using WSGIRefServer())...\n",
    "Listening on http://localhost:8080/\n",
    "Hit Ctrl-C to quit.\n",
    "```\n",
    "\n",
    "Ahora abre tu navegador en la dirección http://localhost:8080/ y comenta lo observado"
   ]
  },
  {
   "cell_type": "markdown",
   "metadata": {},
   "source": [
    "---\n",
    "---\n",
    "### API HOLA MUNDO\n",
    "---\n",
    "#### EJEMPLO:\n",
    "\n",
    "Crea el script `holaapp.py` para que atienda la petición `GET /api/csv/<tu nombre completo>` para que imprima tu nombre en formato CSV.\n",
    "\n",
    "El script se ejecuta de la siguiente forma:\n",
    "\n",
    "```\n",
    "$ python reservacionapp.py\n",
    "Bottle v0.12.17 server starting up (using WSGIRefServer())...\n",
    "Listening on http://localhost:8080/\n",
    "Hit Ctrl-C to quit.\n",
    "```\n",
    "\n",
    "Ahora abre tu navegador en la dirección http://localhost:8080/api/csv/hugo_mc_pato y comenta lo observado"
   ]
  },
  {
   "cell_type": "markdown",
   "metadata": {},
   "source": [
    "---\n",
    "---\n",
    "### API CSV\n",
    "---\n",
    "#### EJEMPLO:\n",
    "\n",
    "Modifica el script `reservacionapp.py` para que atienda la petición `GET /api/csv/<id>` para que imprima los servicios de la reservación con el \\<id\\> en formato CSV.\n",
    "\n",
    "El script se ejecuta de la siguiente forma:\n",
    "\n",
    "```\n",
    "$ python reservacionapp.py\n",
    "Bottle v0.12.17 server starting up (using WSGIRefServer())...\n",
    "Listening on http://localhost:8080/\n",
    "Hit Ctrl-C to quit.\n",
    "```\n",
    "\n",
    "Ahora abre tu navegador en la dirección http://localhost:8080/api/csv/1 y comenta lo observado"
   ]
  },
  {
   "cell_type": "markdown",
   "metadata": {},
   "source": [
    "---\n",
    "---\n",
    "### API JSON\n",
    "---\n",
    "#### RETO:\n",
    "\n",
    "Modifica el script `reservacionapp.py` para que atienda las peticiones\n",
    "- `GET /api/json/<id>` para que imprima los servicios de la reservación con el id en formato JSON.\n",
    "- `GET /api/json/todas` para que imprima los servicios de todas las reservaciones en formato JSON.\n",
    "\n",
    "El script se ejecuta de la siguiente forma:\n",
    "\n",
    "```\n",
    "$ python reservacionapp.py\n",
    "Bottle v0.12.17 server starting up (using WSGIRefServer())...\n",
    "Listening on http://localhost:8080/\n",
    "Hit Ctrl-C to quit.\n",
    "```\n",
    "\n",
    "Ahora abre tu navegador en la dirección http://localhost:8080/json/1 y comenta lo observado\n",
    "Ahora abre tu navegador en la dirección http://localhost:8080/json/todas y comenta lo observado"
   ]
  }
 ],
 "metadata": {
  "kernelspec": {
   "display_name": "Python 3",
   "language": "python",
   "name": "python3"
  },
  "language_info": {
   "codemirror_mode": {
    "name": "ipython",
    "version": 3
   },
   "file_extension": ".py",
   "mimetype": "text/x-python",
   "name": "python",
   "nbconvert_exporter": "python",
   "pygments_lexer": "ipython3",
   "version": "3.7.4"
  }
 },
 "nbformat": 4,
 "nbformat_minor": 4
}
