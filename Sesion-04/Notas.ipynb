{
 "cells": [
  {
   "cell_type": "markdown",
   "metadata": {},
   "source": [
    "---\n",
    "---\n",
    "### Manipulación de archivos\n",
    "---\n",
    "#### EJEMPLO:\n",
    "\n",
    "Escribe el código en Python para guardar la siguiente frase en un archivo de texto llamado `michael_jordan.txt`.\n",
    "\n",
    "```\n",
    "\"He fallado más de 9,000 tiros en mi carrera. He perdido casi 300 juegos. Veintiséis veces, se me ha confiado para tomar el tiro ganador y lo he perdido. He fallado una y otra vez en mi vida. Y es por eso que tengo éxito\"\n",
    "- Michael Jordan\n",
    "```"
   ]
  },
  {
   "cell_type": "code",
   "execution_count": 4,
   "metadata": {},
   "outputs": [],
   "source": [
    "frase = \"\"\"\n",
    "\"He fallado más de 9,000 tiros en mi carrera. He perdido\n",
    "casi 300 juegos. Veintiséis veces, se me ha confiado para\n",
    "tomar el tiro ganador y lo he perdido. He fallado una y\n",
    "otra vez en mi vida. Y es por eso que tengo éxito\"\n",
    "- Michael Jordan\n",
    "\"\"\"\n",
    "\n",
    "# Valores para encoding: iso8859-1, latin-1, latin1\n",
    "da_txt = open(\"michael_jordan.txt\", \"w\", encoding=\"utf-8\")\n",
    "da_txt.write(frase)\n",
    "da_txt.close()"
   ]
  },
  {
   "cell_type": "code",
   "execution_count": null,
   "metadata": {},
   "outputs": [],
   "source": []
  },
  {
   "cell_type": "markdown",
   "metadata": {},
   "source": [
    "---\n",
    "#### EJEMPLO: El módulo [csv](https://docs.python.org/3/library/csv.html)\n",
    "\n",
    "Escribe el código en Python para guardar la siguiente lista de platillos en formato CSV en el archivo `dieta.csv` haciendo uso del módulo `csv`.\n",
    "\n",
    "```\n",
    "ALIMENTO             RACIÓN  CALORÍAS\n",
    "Albóndigas           100g    202 kcal\n",
    "Arroz frito          100g    186 kcal\n",
    "Arroz integral       100g    362 kcal\n",
    "Barbacoa de borrego  100g    170 kcal\n",
    "Burrito              100g    163 kcal\n",
    "```"
   ]
  },
  {
   "cell_type": "code",
   "execution_count": 6,
   "metadata": {},
   "outputs": [],
   "source": [
    "import csv\n",
    "\n",
    "encabezado = [\"ALIMENTO\", \"RACIÓN\", \"CALORÍAS\"]\n",
    "platillos = [\n",
    "    [\"Albóndigas\",\"100g\",\"202 kcal\"],\n",
    "    [\"Arroz frito\",\"100g\",\"186 kcal\"],\n",
    "    [\"Arroz integral\",\"100g\",\"362 kcal\"],\n",
    "    [\"Barbacoa de borrego\",\"100g\",\"170 kcal\"],\n",
    "    [\"Burrito\",\"100g\",\"163 kcal\"]\n",
    "]\n",
    "nomarch = \"dieta.csv\"\n",
    "\n",
    "da = open(nomarch, \"w\", encoding=\"utf-8\")\n",
    "da_csv = csv.writer(da)\n",
    "da_csv.writerow(encabezado)\n",
    "for platillo in platillos:\n",
    "    da_csv.writerow(platillo)\n",
    "da.close()"
   ]
  },
  {
   "cell_type": "code",
   "execution_count": 7,
   "metadata": {},
   "outputs": [],
   "source": [
    "import csv\n",
    "\n",
    "encabezado = [\"ALIMENTO\", \"RACIÓN\", \"CALORÍAS\"]\n",
    "platillos = [\n",
    "    [\"Albóndigas\",\"100g\",\"202 kcal\"],\n",
    "    [\"Arroz frito\",\"100g\",\"186 kcal\"],\n",
    "    [\"Arroz integral\",\"100g\",\"362 kcal\"],\n",
    "    [\"Barbacoa de borrego\",\"100g\",\"170 kcal\"],\n",
    "    [\"Burrito\",\"100g\",\"163 kcal\"]\n",
    "]\n",
    "nomarch = \"dieta.csv\"\n",
    "\n",
    "with open(nomarch, \"w\", encoding=\"utf-8\") as da:    \n",
    "    da_csv = csv.writer(da)\n",
    "    da_csv.writerow(encabezado)\n",
    "    da_csv.writerows(platillos)"
   ]
  },
  {
   "cell_type": "markdown",
   "metadata": {},
   "source": [
    "---\n",
    "#### RETO:\n",
    "\n",
    "Modifica el script `reservaciones.py` para que los conceptos de la reservación sean leídos del archivo `reservaciones.csv` agregando la función `obtiene_conceptos_csv()` y haciendo uso del módulo `csv`.\n",
    "\n",
    "```\n",
    "$ python reservaciones.py \n",
    "-----------------------------------------------------------\n",
    "CONCEPTO              | CANTIDAD | PRECIO     | SUBTOTAL  \n",
    "-----------------------------------------------------------\n",
    "alimentos y bebidas   |        1 |    5000.00 |    5000.00\n",
    "Habitación doble      |        1 |   15000.00 |   15000.00\n",
    "Reservación en evento |        1 |    3999.99 |    3999.99\n",
    "Tour en lancha        |        2 |    2175.00 |    4350.00\n",
    "Transporte            |        3 |    3000.00 |    9000.00\n",
    "-----------------------------------------------------------\n",
    "                      |          |      Total |       0.00\n",
    "```"
   ]
  },
  {
   "cell_type": "markdown",
   "metadata": {},
   "source": [
    "---\n",
    "---\n",
    "### Los archivos JSON\n",
    "---\n",
    "#### EJEMPLO: El módulo [json](https://docs.python.org/3/library/json.html)\n",
    "\n",
    "Escribe el código en Python para guardar la siguiente lista de platillos en formato JSON en el archivo `dieta.json` haciendo uso del módulo `json`.\n",
    "\n",
    "```\n",
    "ALIMENTO             RACIÓN  CALORÍAS\n",
    "Albóndigas           100g    202 kcal\n",
    "Arroz frito          100g    186 kcal\n",
    "Arroz integral       100g    362 kcal\n",
    "Barbacoa de borrego  100g    170 kcal\n",
    "Burrito              100g    163 kcal\n",
    "Cierra el pico       100g      0 kcal\n",
    "```"
   ]
  },
  {
   "cell_type": "code",
   "execution_count": 11,
   "metadata": {},
   "outputs": [],
   "source": [
    "import json\n",
    "\n",
    "encabezado = [\"ALIMENTO\", \"RACIÓN\", \"CALORÍAS\"]\n",
    "platillos = [\n",
    "    [\"Albóndigas\",\"100g\",\"202 kcal\"],\n",
    "    [\"Arroz frito\",\"100g\",\"186 kcal\"],\n",
    "    [\"Arroz integral\",\"100g\",\"362 kcal\"],\n",
    "    [\"Barbacoa de borrego\",\"100g\",\"170 kcal\"],\n",
    "    [\"Burrito\",\"100g\",\"163 kcal\"],\n",
    "    [\"Cuerra el pico\",\"100g\",\"0 kcal\"]\n",
    "]\n",
    "\n",
    "lista_platillos = []\n",
    "for platillo in platillos:\n",
    "    platillo_dict = {\n",
    "        encabezado[0]:platillo[0],\n",
    "        encabezado[1]:platillo[1],\n",
    "        encabezado[2]:platillo[2]\n",
    "    }\n",
    "    lista_platillos.append(platillo_dict)\n",
    "    \n",
    "with open(\"dieta.json\", \"w\", encoding=\"utf-8\") as arch:\n",
    "    json.dump(lista_platillos, arch, indent=4)"
   ]
  },
  {
   "cell_type": "markdown",
   "metadata": {},
   "source": [
    "---\n",
    "#### RETO:\n",
    "\n",
    "Módifica el script `reservaciones.py` agregando la opción `--json` para que imprima los conceptos en formato JSON.\n",
    "\n",
    "```\n",
    "$ python reservaciones.py --json\n",
    "[\n",
    "    {\n",
    "        \"CONCEPTO\":\"alimentos y bebidas\",\n",
    "        \"CANTIDAD\":1,\n",
    "        \"PRECIO\":5000.00\n",
    "    },\n",
    "    {\n",
    "        \"CONCEPTO\":\"Habitación doble\",\n",
    "        \"CANTIDAD\":1,\n",
    "        \"PRECIO\":15000.00\n",
    "    },\n",
    "    {\n",
    "        \"CONCEPTO\":\"Reservación en evento\",\n",
    "        \"CANTIDAD\":1,\n",
    "        \"PRECIO\":3999.99\n",
    "    },\n",
    "    ...\n",
    "]\n",
    "```"
   ]
  },
  {
   "cell_type": "markdown",
   "metadata": {},
   "source": [
    "---\n",
    "#### SUB-RETO:\n",
    "\n",
    "Guarda el resultado del script `reservaciones.py` en el archivo `salida.json` y abrelo usando el servidor web de python en la dirección http://127.0.0.1:8000/salida.json.\n",
    "\n",
    "```\n",
    "$ python reservaciones.py --json > salida.sjon\n",
    "$\n",
    "```"
   ]
  },
  {
   "cell_type": "code",
   "execution_count": null,
   "metadata": {},
   "outputs": [],
   "source": []
  }
 ],
 "metadata": {
  "kernelspec": {
   "display_name": "Python 3",
   "language": "python",
   "name": "python3"
  },
  "language_info": {
   "codemirror_mode": {
    "name": "ipython",
    "version": 3
   },
   "file_extension": ".py",
   "mimetype": "text/x-python",
   "name": "python",
   "nbconvert_exporter": "python",
   "pygments_lexer": "ipython3",
   "version": "3.7.4"
  }
 },
 "nbformat": 4,
 "nbformat_minor": 4
}
